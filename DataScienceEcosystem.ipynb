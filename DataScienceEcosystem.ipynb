{
 "cells": [
  {
   "cell_type": "markdown",
   "id": "a6950b51-3536-48ac-8022-3ddf48a2ec6b",
   "metadata": {},
   "source": [
    "# Data Science Tools and Ecosystem"
   ]
  },
  {
   "cell_type": "markdown",
   "id": "dd9fb9b7-7bec-4051-8d96-58d22dc23ccd",
   "metadata": {},
   "source": [
    "In this notebook, Data Science Tools and Ecosystem are summarized."
   ]
  },
  {
   "cell_type": "markdown",
   "id": "133b08ad-cf55-4e54-9c90-b50d65061b2e",
   "metadata": {},
   "source": [
    "** Objectives: **\n",
    "- List popular languages for Data Science\n",
    "- List examples of the various libraries: scientific, visualization, machine learning, and deep learning\n",
    "- Describe how to use the notebooks in JupyterLab\n",
    "- Describe R capabilities and RStudio environment\n",
    "- Create a GitHub account and a project repository"
   ]
  },
  {
   "cell_type": "markdown",
   "id": "019c34e5-8fc3-4665-9def-8cc1970345af",
   "metadata": {},
   "source": [
    "Some of the popular languages that Data Scientists use are:\n",
    "1. Python\n",
    "2. R\n",
    "3. SQL\n",
    "4. Java\n",
    "5. Scala\n",
    "6. C++\n",
    "7. JavaScript\n",
    "8. Julia"
   ]
  },
  {
   "cell_type": "markdown",
   "id": "a5fefb22-2eb2-4bb6-a391-b4ebddd5898e",
   "metadata": {},
   "source": [
    "Some of the commonly used libraries used by Data Scientists include:\n",
    "1. Pandas (Scientific Computing - Data Structures & Tools)\n",
    "2. NumPy (Scientific Computing - Arrays & Matrices)\n",
    "3. Matplotlib (Visualization - Plots & Graphs)\n",
    "4. Seaborn (Visualization - Plots: Heat Maps, Time Series, Violin Plots)\n",
    "5. Scokit-learn (Machine Learning & Deep Learning - Machine Learning: Regression, Classification, Clusterning)\n",
    "6. Keras (Machine Learning & Deep Learning - Deep Learning Neural Networks)"
   ]
  },
  {
   "cell_type": "markdown",
   "id": "511b8578-9ca2-4397-8587-a445decc1b87",
   "metadata": {},
   "source": [
    "| Data Science Tools |\n",
    "| ---------|\n",
    "| Jupyter Notebook | \n",
    "| Apache Spark | \n",
    "| Apache Hadoop |\n",
    "| TensorFlow Service | \n",
    "| GitHub |\n"
   ]
  },
  {
   "cell_type": "markdown",
   "id": "8c8fbb22-6fcb-4bf5-9ba0-56effdb1de92",
   "metadata": {},
   "source": [
    "### Below are a few examples of evaluating arithmetic expressions in Python."
   ]
  },
  {
   "cell_type": "code",
   "execution_count": 1,
   "id": "8478012b-4987-4aed-bb01-c925ea837dc4",
   "metadata": {},
   "outputs": [
    {
     "data": {
      "text/plain": [
       "17"
      ]
     },
     "execution_count": 1,
     "metadata": {},
     "output_type": "execute_result"
    }
   ],
   "source": [
    "# This a simple arithmetic expression to mutiply then add integers.\n",
    "(3*4)+5"
   ]
  },
  {
   "cell_type": "code",
   "execution_count": 2,
   "id": "a7732b27-acda-4fc4-8d9e-cc8236af18db",
   "metadata": {},
   "outputs": [
    {
     "data": {
      "text/plain": [
       "3.3333333333333335"
      ]
     },
     "execution_count": 2,
     "metadata": {},
     "output_type": "execute_result"
    }
   ],
   "source": [
    "#This will convert 200 minutes to hours by diving by 60.\n",
    "200/60"
   ]
  },
  {
   "cell_type": "markdown",
   "id": "bacdc793-9bed-4463-ad96-4ec196188791",
   "metadata": {},
   "source": [
    "## Author\n",
    "Joe Mello"
   ]
  },
  {
   "cell_type": "code",
   "execution_count": null,
   "id": "50fe121e-5275-4f6f-ac73-aa26e2e933c3",
   "metadata": {},
   "outputs": [],
   "source": []
  }
 ],
 "metadata": {
  "kernelspec": {
   "display_name": "Python 3 (ipykernel)",
   "language": "python",
   "name": "python3"
  },
  "language_info": {
   "codemirror_mode": {
    "name": "ipython",
    "version": 3
   },
   "file_extension": ".py",
   "mimetype": "text/x-python",
   "name": "python",
   "nbconvert_exporter": "python",
   "pygments_lexer": "ipython3",
   "version": "3.11.9"
  }
 },
 "nbformat": 4,
 "nbformat_minor": 5
}
